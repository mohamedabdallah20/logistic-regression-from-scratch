{
 "cells": [
  {
   "cell_type": "code",
   "execution_count": 314,
   "metadata": {},
   "outputs": [],
   "source": [
    "import pandas as pd \n",
    "import numpy as np\n",
    "import matplotlib.pyplot as plt\n",
    "%matplotlib inline\n",
    "\n",
    "test = pd.read_csv('Testing Data.csv')\n",
    "train = pd.read_csv('Training Data.csv')"
   ]
  },
  {
   "cell_type": "code",
   "execution_count": 315,
   "metadata": {},
   "outputs": [
    {
     "data": {
      "text/html": [
       "<div>\n",
       "<style scoped>\n",
       "    .dataframe tbody tr th:only-of-type {\n",
       "        vertical-align: middle;\n",
       "    }\n",
       "\n",
       "    .dataframe tbody tr th {\n",
       "        vertical-align: top;\n",
       "    }\n",
       "\n",
       "    .dataframe thead th {\n",
       "        text-align: right;\n",
       "    }\n",
       "</style>\n",
       "<table border=\"1\" class=\"dataframe\">\n",
       "  <thead>\n",
       "    <tr style=\"text-align: right;\">\n",
       "      <th></th>\n",
       "      <th>patient_ID</th>\n",
       "      <th>age</th>\n",
       "      <th>sex</th>\n",
       "      <th>cp</th>\n",
       "      <th>trestbps</th>\n",
       "      <th>chol</th>\n",
       "      <th>fbs</th>\n",
       "      <th>restecg</th>\n",
       "      <th>thalach</th>\n",
       "      <th>exang</th>\n",
       "      <th>oldpeak</th>\n",
       "      <th>slope</th>\n",
       "      <th>ca</th>\n",
       "      <th>thal</th>\n",
       "      <th>target</th>\n",
       "    </tr>\n",
       "  </thead>\n",
       "  <tbody>\n",
       "    <tr>\n",
       "      <th>0</th>\n",
       "      <td>130</td>\n",
       "      <td>54</td>\n",
       "      <td>0</td>\n",
       "      <td>2</td>\n",
       "      <td>160</td>\n",
       "      <td>201</td>\n",
       "      <td>0.0</td>\n",
       "      <td>1</td>\n",
       "      <td>163.0</td>\n",
       "      <td>0</td>\n",
       "      <td>0.0</td>\n",
       "      <td>2</td>\n",
       "      <td>1</td>\n",
       "      <td>2</td>\n",
       "      <td>Heart Attack</td>\n",
       "    </tr>\n",
       "    <tr>\n",
       "      <th>1</th>\n",
       "      <td>168</td>\n",
       "      <td>63</td>\n",
       "      <td>1</td>\n",
       "      <td>0</td>\n",
       "      <td>130</td>\n",
       "      <td>254</td>\n",
       "      <td>0.0</td>\n",
       "      <td>0</td>\n",
       "      <td>147.0</td>\n",
       "      <td>0</td>\n",
       "      <td>1.4</td>\n",
       "      <td>1</td>\n",
       "      <td>1</td>\n",
       "      <td>3</td>\n",
       "      <td>No Attack</td>\n",
       "    </tr>\n",
       "    <tr>\n",
       "      <th>2</th>\n",
       "      <td>258</td>\n",
       "      <td>62</td>\n",
       "      <td>0</td>\n",
       "      <td>0</td>\n",
       "      <td>150</td>\n",
       "      <td>244</td>\n",
       "      <td>0.0</td>\n",
       "      <td>1</td>\n",
       "      <td>154.0</td>\n",
       "      <td>1</td>\n",
       "      <td>1.4</td>\n",
       "      <td>1</td>\n",
       "      <td>0</td>\n",
       "      <td>2</td>\n",
       "      <td>No Attack</td>\n",
       "    </tr>\n",
       "    <tr>\n",
       "      <th>3</th>\n",
       "      <td>240</td>\n",
       "      <td>70</td>\n",
       "      <td>1</td>\n",
       "      <td>2</td>\n",
       "      <td>160</td>\n",
       "      <td>269</td>\n",
       "      <td>0.0</td>\n",
       "      <td>1</td>\n",
       "      <td>112.0</td>\n",
       "      <td>1</td>\n",
       "      <td>2.9</td>\n",
       "      <td>1</td>\n",
       "      <td>1</td>\n",
       "      <td>3</td>\n",
       "      <td>No Attack</td>\n",
       "    </tr>\n",
       "    <tr>\n",
       "      <th>4</th>\n",
       "      <td>201</td>\n",
       "      <td>60</td>\n",
       "      <td>1</td>\n",
       "      <td>0</td>\n",
       "      <td>125</td>\n",
       "      <td>258</td>\n",
       "      <td>0.0</td>\n",
       "      <td>0</td>\n",
       "      <td>141.0</td>\n",
       "      <td>1</td>\n",
       "      <td>2.8</td>\n",
       "      <td>1</td>\n",
       "      <td>1</td>\n",
       "      <td>3</td>\n",
       "      <td>No Attack</td>\n",
       "    </tr>\n",
       "  </tbody>\n",
       "</table>\n",
       "</div>"
      ],
      "text/plain": [
       "   patient_ID  age  sex  cp  trestbps  chol  fbs  restecg  thalach  exang  \\\n",
       "0         130   54    0   2       160   201  0.0        1    163.0      0   \n",
       "1         168   63    1   0       130   254  0.0        0    147.0      0   \n",
       "2         258   62    0   0       150   244  0.0        1    154.0      1   \n",
       "3         240   70    1   2       160   269  0.0        1    112.0      1   \n",
       "4         201   60    1   0       125   258  0.0        0    141.0      1   \n",
       "\n",
       "   oldpeak  slope  ca  thal        target  \n",
       "0      0.0      2   1     2  Heart Attack  \n",
       "1      1.4      1   1     3     No Attack  \n",
       "2      1.4      1   0     2     No Attack  \n",
       "3      2.9      1   1     3     No Attack  \n",
       "4      2.8      1   1     3     No Attack  "
      ]
     },
     "execution_count": 315,
     "metadata": {},
     "output_type": "execute_result"
    }
   ],
   "source": [
    "train.head()"
   ]
  },
  {
   "cell_type": "code",
   "execution_count": 316,
   "metadata": {},
   "outputs": [
    {
     "name": "stdout",
     "output_type": "stream",
     "text": [
      "<class 'pandas.core.frame.DataFrame'>\n",
      "RangeIndex: 250 entries, 0 to 249\n",
      "Data columns (total 15 columns):\n",
      " #   Column      Non-Null Count  Dtype  \n",
      "---  ------      --------------  -----  \n",
      " 0   patient_ID  250 non-null    int64  \n",
      " 1   age         250 non-null    int64  \n",
      " 2   sex         250 non-null    int64  \n",
      " 3   cp          250 non-null    int64  \n",
      " 4   trestbps    250 non-null    int64  \n",
      " 5   chol        250 non-null    int64  \n",
      " 6   fbs         129 non-null    float64\n",
      " 7   restecg     250 non-null    int64  \n",
      " 8   thalach     223 non-null    float64\n",
      " 9   exang       250 non-null    int64  \n",
      " 10  oldpeak     250 non-null    float64\n",
      " 11  slope       250 non-null    int64  \n",
      " 12  ca          250 non-null    int64  \n",
      " 13  thal        250 non-null    int64  \n",
      " 14  target      250 non-null    object \n",
      "dtypes: float64(3), int64(11), object(1)\n",
      "memory usage: 29.4+ KB\n"
     ]
    }
   ],
   "source": [
    "train.info()"
   ]
  },
  {
   "cell_type": "code",
   "execution_count": 317,
   "metadata": {},
   "outputs": [],
   "source": [
    "train['target']  =np.where(train.target=='Heart Attack',1,0)"
   ]
  },
  {
   "cell_type": "code",
   "execution_count": 318,
   "metadata": {},
   "outputs": [],
   "source": [
    "import seaborn as sb"
   ]
  },
  {
   "cell_type": "code",
   "execution_count": 319,
   "metadata": {},
   "outputs": [],
   "source": [
    "# sb.pairplot(train)"
   ]
  },
  {
   "cell_type": "code",
   "execution_count": 320,
   "metadata": {},
   "outputs": [
    {
     "data": {
      "text/html": [
       "<div>\n",
       "<style scoped>\n",
       "    .dataframe tbody tr th:only-of-type {\n",
       "        vertical-align: middle;\n",
       "    }\n",
       "\n",
       "    .dataframe tbody tr th {\n",
       "        vertical-align: top;\n",
       "    }\n",
       "\n",
       "    .dataframe thead th {\n",
       "        text-align: right;\n",
       "    }\n",
       "</style>\n",
       "<table border=\"1\" class=\"dataframe\">\n",
       "  <thead>\n",
       "    <tr style=\"text-align: right;\">\n",
       "      <th></th>\n",
       "      <th>patient_ID</th>\n",
       "      <th>age</th>\n",
       "      <th>sex</th>\n",
       "      <th>cp</th>\n",
       "      <th>trestbps</th>\n",
       "      <th>chol</th>\n",
       "      <th>fbs</th>\n",
       "      <th>restecg</th>\n",
       "      <th>thalach</th>\n",
       "      <th>exang</th>\n",
       "      <th>oldpeak</th>\n",
       "      <th>slope</th>\n",
       "      <th>ca</th>\n",
       "      <th>thal</th>\n",
       "      <th>target</th>\n",
       "    </tr>\n",
       "  </thead>\n",
       "  <tbody>\n",
       "    <tr>\n",
       "      <th>patient_ID</th>\n",
       "      <td>1.000000</td>\n",
       "      <td>0.181075</td>\n",
       "      <td>0.204856</td>\n",
       "      <td>-0.397515</td>\n",
       "      <td>0.119136</td>\n",
       "      <td>0.054166</td>\n",
       "      <td>-0.060736</td>\n",
       "      <td>-0.064735</td>\n",
       "      <td>-0.420370</td>\n",
       "      <td>0.374311</td>\n",
       "      <td>0.311187</td>\n",
       "      <td>-0.304038</td>\n",
       "      <td>0.406567</td>\n",
       "      <td>0.245329</td>\n",
       "      <td>-0.860392</td>\n",
       "    </tr>\n",
       "    <tr>\n",
       "      <th>age</th>\n",
       "      <td>0.181075</td>\n",
       "      <td>1.000000</td>\n",
       "      <td>-0.096681</td>\n",
       "      <td>-0.053008</td>\n",
       "      <td>0.277804</td>\n",
       "      <td>0.194612</td>\n",
       "      <td>0.102819</td>\n",
       "      <td>-0.093132</td>\n",
       "      <td>-0.416991</td>\n",
       "      <td>0.137408</td>\n",
       "      <td>0.239800</td>\n",
       "      <td>-0.173311</td>\n",
       "      <td>0.245763</td>\n",
       "      <td>0.126629</td>\n",
       "      <td>-0.219526</td>\n",
       "    </tr>\n",
       "    <tr>\n",
       "      <th>sex</th>\n",
       "      <td>0.204856</td>\n",
       "      <td>-0.096681</td>\n",
       "      <td>1.000000</td>\n",
       "      <td>-0.069332</td>\n",
       "      <td>-0.045613</td>\n",
       "      <td>-0.180647</td>\n",
       "      <td>0.089116</td>\n",
       "      <td>-0.098525</td>\n",
       "      <td>-0.032984</td>\n",
       "      <td>0.131750</td>\n",
       "      <td>0.125741</td>\n",
       "      <td>-0.057959</td>\n",
       "      <td>0.155797</td>\n",
       "      <td>0.216117</td>\n",
       "      <td>-0.309728</td>\n",
       "    </tr>\n",
       "    <tr>\n",
       "      <th>cp</th>\n",
       "      <td>-0.397515</td>\n",
       "      <td>-0.053008</td>\n",
       "      <td>-0.069332</td>\n",
       "      <td>1.000000</td>\n",
       "      <td>0.053765</td>\n",
       "      <td>-0.079439</td>\n",
       "      <td>0.063972</td>\n",
       "      <td>0.034329</td>\n",
       "      <td>0.229587</td>\n",
       "      <td>-0.407370</td>\n",
       "      <td>-0.157642</td>\n",
       "      <td>0.122452</td>\n",
       "      <td>-0.211626</td>\n",
       "      <td>-0.125059</td>\n",
       "      <td>0.431790</td>\n",
       "    </tr>\n",
       "    <tr>\n",
       "      <th>trestbps</th>\n",
       "      <td>0.119136</td>\n",
       "      <td>0.277804</td>\n",
       "      <td>-0.045613</td>\n",
       "      <td>0.053765</td>\n",
       "      <td>1.000000</td>\n",
       "      <td>0.129928</td>\n",
       "      <td>0.049079</td>\n",
       "      <td>-0.081282</td>\n",
       "      <td>-0.021673</td>\n",
       "      <td>0.045361</td>\n",
       "      <td>0.212620</td>\n",
       "      <td>-0.112836</td>\n",
       "      <td>0.069168</td>\n",
       "      <td>0.075112</td>\n",
       "      <td>-0.157869</td>\n",
       "    </tr>\n",
       "    <tr>\n",
       "      <th>chol</th>\n",
       "      <td>0.054166</td>\n",
       "      <td>0.194612</td>\n",
       "      <td>-0.180647</td>\n",
       "      <td>-0.079439</td>\n",
       "      <td>0.129928</td>\n",
       "      <td>1.000000</td>\n",
       "      <td>-0.022202</td>\n",
       "      <td>-0.130288</td>\n",
       "      <td>-0.022860</td>\n",
       "      <td>0.121755</td>\n",
       "      <td>0.059218</td>\n",
       "      <td>-0.022143</td>\n",
       "      <td>0.070628</td>\n",
       "      <td>0.145249</td>\n",
       "      <td>-0.119435</td>\n",
       "    </tr>\n",
       "    <tr>\n",
       "      <th>fbs</th>\n",
       "      <td>-0.060736</td>\n",
       "      <td>0.102819</td>\n",
       "      <td>0.089116</td>\n",
       "      <td>0.063972</td>\n",
       "      <td>0.049079</td>\n",
       "      <td>-0.022202</td>\n",
       "      <td>1.000000</td>\n",
       "      <td>-0.093305</td>\n",
       "      <td>0.031023</td>\n",
       "      <td>0.107627</td>\n",
       "      <td>0.011990</td>\n",
       "      <td>-0.061793</td>\n",
       "      <td>0.007797</td>\n",
       "      <td>0.065601</td>\n",
       "      <td>0.029642</td>\n",
       "    </tr>\n",
       "    <tr>\n",
       "      <th>restecg</th>\n",
       "      <td>-0.064735</td>\n",
       "      <td>-0.093132</td>\n",
       "      <td>-0.098525</td>\n",
       "      <td>0.034329</td>\n",
       "      <td>-0.081282</td>\n",
       "      <td>-0.130288</td>\n",
       "      <td>-0.093305</td>\n",
       "      <td>1.000000</td>\n",
       "      <td>-0.009837</td>\n",
       "      <td>-0.087276</td>\n",
       "      <td>-0.088941</td>\n",
       "      <td>0.104714</td>\n",
       "      <td>-0.089367</td>\n",
       "      <td>-0.073328</td>\n",
       "      <td>0.176890</td>\n",
       "    </tr>\n",
       "    <tr>\n",
       "      <th>thalach</th>\n",
       "      <td>-0.420370</td>\n",
       "      <td>-0.416991</td>\n",
       "      <td>-0.032984</td>\n",
       "      <td>0.229587</td>\n",
       "      <td>-0.021673</td>\n",
       "      <td>-0.022860</td>\n",
       "      <td>0.031023</td>\n",
       "      <td>-0.009837</td>\n",
       "      <td>1.000000</td>\n",
       "      <td>-0.394769</td>\n",
       "      <td>-0.360232</td>\n",
       "      <td>0.422171</td>\n",
       "      <td>-0.211746</td>\n",
       "      <td>-0.101945</td>\n",
       "      <td>0.429328</td>\n",
       "    </tr>\n",
       "    <tr>\n",
       "      <th>exang</th>\n",
       "      <td>0.374311</td>\n",
       "      <td>0.137408</td>\n",
       "      <td>0.131750</td>\n",
       "      <td>-0.407370</td>\n",
       "      <td>0.045361</td>\n",
       "      <td>0.121755</td>\n",
       "      <td>0.107627</td>\n",
       "      <td>-0.087276</td>\n",
       "      <td>-0.394769</td>\n",
       "      <td>1.000000</td>\n",
       "      <td>0.265635</td>\n",
       "      <td>-0.280162</td>\n",
       "      <td>0.142163</td>\n",
       "      <td>0.183575</td>\n",
       "      <td>-0.464886</td>\n",
       "    </tr>\n",
       "    <tr>\n",
       "      <th>oldpeak</th>\n",
       "      <td>0.311187</td>\n",
       "      <td>0.239800</td>\n",
       "      <td>0.125741</td>\n",
       "      <td>-0.157642</td>\n",
       "      <td>0.212620</td>\n",
       "      <td>0.059218</td>\n",
       "      <td>0.011990</td>\n",
       "      <td>-0.088941</td>\n",
       "      <td>-0.360232</td>\n",
       "      <td>0.265635</td>\n",
       "      <td>1.000000</td>\n",
       "      <td>-0.564379</td>\n",
       "      <td>0.251755</td>\n",
       "      <td>0.225094</td>\n",
       "      <td>-0.441256</td>\n",
       "    </tr>\n",
       "    <tr>\n",
       "      <th>slope</th>\n",
       "      <td>-0.304038</td>\n",
       "      <td>-0.173311</td>\n",
       "      <td>-0.057959</td>\n",
       "      <td>0.122452</td>\n",
       "      <td>-0.112836</td>\n",
       "      <td>-0.022143</td>\n",
       "      <td>-0.061793</td>\n",
       "      <td>0.104714</td>\n",
       "      <td>0.422171</td>\n",
       "      <td>-0.280162</td>\n",
       "      <td>-0.564379</td>\n",
       "      <td>1.000000</td>\n",
       "      <td>-0.112766</td>\n",
       "      <td>-0.122813</td>\n",
       "      <td>0.373952</td>\n",
       "    </tr>\n",
       "    <tr>\n",
       "      <th>ca</th>\n",
       "      <td>0.406567</td>\n",
       "      <td>0.245763</td>\n",
       "      <td>0.155797</td>\n",
       "      <td>-0.211626</td>\n",
       "      <td>0.069168</td>\n",
       "      <td>0.070628</td>\n",
       "      <td>0.007797</td>\n",
       "      <td>-0.089367</td>\n",
       "      <td>-0.211746</td>\n",
       "      <td>0.142163</td>\n",
       "      <td>0.251755</td>\n",
       "      <td>-0.112766</td>\n",
       "      <td>1.000000</td>\n",
       "      <td>0.204584</td>\n",
       "      <td>-0.397824</td>\n",
       "    </tr>\n",
       "    <tr>\n",
       "      <th>thal</th>\n",
       "      <td>0.245329</td>\n",
       "      <td>0.126629</td>\n",
       "      <td>0.216117</td>\n",
       "      <td>-0.125059</td>\n",
       "      <td>0.075112</td>\n",
       "      <td>0.145249</td>\n",
       "      <td>0.065601</td>\n",
       "      <td>-0.073328</td>\n",
       "      <td>-0.101945</td>\n",
       "      <td>0.183575</td>\n",
       "      <td>0.225094</td>\n",
       "      <td>-0.122813</td>\n",
       "      <td>0.204584</td>\n",
       "      <td>1.000000</td>\n",
       "      <td>-0.348213</td>\n",
       "    </tr>\n",
       "    <tr>\n",
       "      <th>target</th>\n",
       "      <td>-0.860392</td>\n",
       "      <td>-0.219526</td>\n",
       "      <td>-0.309728</td>\n",
       "      <td>0.431790</td>\n",
       "      <td>-0.157869</td>\n",
       "      <td>-0.119435</td>\n",
       "      <td>0.029642</td>\n",
       "      <td>0.176890</td>\n",
       "      <td>0.429328</td>\n",
       "      <td>-0.464886</td>\n",
       "      <td>-0.441256</td>\n",
       "      <td>0.373952</td>\n",
       "      <td>-0.397824</td>\n",
       "      <td>-0.348213</td>\n",
       "      <td>1.000000</td>\n",
       "    </tr>\n",
       "  </tbody>\n",
       "</table>\n",
       "</div>"
      ],
      "text/plain": [
       "            patient_ID       age       sex        cp  trestbps      chol  \\\n",
       "patient_ID    1.000000  0.181075  0.204856 -0.397515  0.119136  0.054166   \n",
       "age           0.181075  1.000000 -0.096681 -0.053008  0.277804  0.194612   \n",
       "sex           0.204856 -0.096681  1.000000 -0.069332 -0.045613 -0.180647   \n",
       "cp           -0.397515 -0.053008 -0.069332  1.000000  0.053765 -0.079439   \n",
       "trestbps      0.119136  0.277804 -0.045613  0.053765  1.000000  0.129928   \n",
       "chol          0.054166  0.194612 -0.180647 -0.079439  0.129928  1.000000   \n",
       "fbs          -0.060736  0.102819  0.089116  0.063972  0.049079 -0.022202   \n",
       "restecg      -0.064735 -0.093132 -0.098525  0.034329 -0.081282 -0.130288   \n",
       "thalach      -0.420370 -0.416991 -0.032984  0.229587 -0.021673 -0.022860   \n",
       "exang         0.374311  0.137408  0.131750 -0.407370  0.045361  0.121755   \n",
       "oldpeak       0.311187  0.239800  0.125741 -0.157642  0.212620  0.059218   \n",
       "slope        -0.304038 -0.173311 -0.057959  0.122452 -0.112836 -0.022143   \n",
       "ca            0.406567  0.245763  0.155797 -0.211626  0.069168  0.070628   \n",
       "thal          0.245329  0.126629  0.216117 -0.125059  0.075112  0.145249   \n",
       "target       -0.860392 -0.219526 -0.309728  0.431790 -0.157869 -0.119435   \n",
       "\n",
       "                 fbs   restecg   thalach     exang   oldpeak     slope  \\\n",
       "patient_ID -0.060736 -0.064735 -0.420370  0.374311  0.311187 -0.304038   \n",
       "age         0.102819 -0.093132 -0.416991  0.137408  0.239800 -0.173311   \n",
       "sex         0.089116 -0.098525 -0.032984  0.131750  0.125741 -0.057959   \n",
       "cp          0.063972  0.034329  0.229587 -0.407370 -0.157642  0.122452   \n",
       "trestbps    0.049079 -0.081282 -0.021673  0.045361  0.212620 -0.112836   \n",
       "chol       -0.022202 -0.130288 -0.022860  0.121755  0.059218 -0.022143   \n",
       "fbs         1.000000 -0.093305  0.031023  0.107627  0.011990 -0.061793   \n",
       "restecg    -0.093305  1.000000 -0.009837 -0.087276 -0.088941  0.104714   \n",
       "thalach     0.031023 -0.009837  1.000000 -0.394769 -0.360232  0.422171   \n",
       "exang       0.107627 -0.087276 -0.394769  1.000000  0.265635 -0.280162   \n",
       "oldpeak     0.011990 -0.088941 -0.360232  0.265635  1.000000 -0.564379   \n",
       "slope      -0.061793  0.104714  0.422171 -0.280162 -0.564379  1.000000   \n",
       "ca          0.007797 -0.089367 -0.211746  0.142163  0.251755 -0.112766   \n",
       "thal        0.065601 -0.073328 -0.101945  0.183575  0.225094 -0.122813   \n",
       "target      0.029642  0.176890  0.429328 -0.464886 -0.441256  0.373952   \n",
       "\n",
       "                  ca      thal    target  \n",
       "patient_ID  0.406567  0.245329 -0.860392  \n",
       "age         0.245763  0.126629 -0.219526  \n",
       "sex         0.155797  0.216117 -0.309728  \n",
       "cp         -0.211626 -0.125059  0.431790  \n",
       "trestbps    0.069168  0.075112 -0.157869  \n",
       "chol        0.070628  0.145249 -0.119435  \n",
       "fbs         0.007797  0.065601  0.029642  \n",
       "restecg    -0.089367 -0.073328  0.176890  \n",
       "thalach    -0.211746 -0.101945  0.429328  \n",
       "exang       0.142163  0.183575 -0.464886  \n",
       "oldpeak     0.251755  0.225094 -0.441256  \n",
       "slope      -0.112766 -0.122813  0.373952  \n",
       "ca          1.000000  0.204584 -0.397824  \n",
       "thal        0.204584  1.000000 -0.348213  \n",
       "target     -0.397824 -0.348213  1.000000  "
      ]
     },
     "execution_count": 320,
     "metadata": {},
     "output_type": "execute_result"
    }
   ],
   "source": [
    "train.corr()"
   ]
  },
  {
   "cell_type": "code",
   "execution_count": 321,
   "metadata": {},
   "outputs": [],
   "source": [
    "train['fbs'] = train['fbs'].fillna(train['fbs'].median())"
   ]
  },
  {
   "cell_type": "code",
   "execution_count": 322,
   "metadata": {},
   "outputs": [],
   "source": [
    "train['thalach'] = train['thalach'].fillna(train['thalach'].median())"
   ]
  },
  {
   "cell_type": "code",
   "execution_count": 323,
   "metadata": {},
   "outputs": [],
   "source": [
    "# train['fbs'].mode()"
   ]
  },
  {
   "cell_type": "code",
   "execution_count": 324,
   "metadata": {},
   "outputs": [
    {
     "data": {
      "text/plain": [
       "patient_ID    0\n",
       "age           0\n",
       "sex           0\n",
       "cp            0\n",
       "trestbps      0\n",
       "chol          0\n",
       "fbs           0\n",
       "restecg       0\n",
       "thalach       0\n",
       "exang         0\n",
       "oldpeak       0\n",
       "slope         0\n",
       "ca            0\n",
       "thal          0\n",
       "target        0\n",
       "dtype: int64"
      ]
     },
     "execution_count": 324,
     "metadata": {},
     "output_type": "execute_result"
    }
   ],
   "source": [
    "train.isna().sum()"
   ]
  },
  {
   "cell_type": "code",
   "execution_count": 325,
   "metadata": {},
   "outputs": [],
   "source": [
    "# train.corr()"
   ]
  },
  {
   "cell_type": "code",
   "execution_count": 326,
   "metadata": {},
   "outputs": [],
   "source": [
    "train.drop(columns=['patient_ID'],inplace=True)"
   ]
  },
  {
   "cell_type": "code",
   "execution_count": 327,
   "metadata": {},
   "outputs": [
    {
     "data": {
      "text/html": [
       "<div>\n",
       "<style scoped>\n",
       "    .dataframe tbody tr th:only-of-type {\n",
       "        vertical-align: middle;\n",
       "    }\n",
       "\n",
       "    .dataframe tbody tr th {\n",
       "        vertical-align: top;\n",
       "    }\n",
       "\n",
       "    .dataframe thead th {\n",
       "        text-align: right;\n",
       "    }\n",
       "</style>\n",
       "<table border=\"1\" class=\"dataframe\">\n",
       "  <thead>\n",
       "    <tr style=\"text-align: right;\">\n",
       "      <th></th>\n",
       "      <th>age</th>\n",
       "      <th>sex</th>\n",
       "      <th>cp</th>\n",
       "      <th>trestbps</th>\n",
       "      <th>chol</th>\n",
       "      <th>fbs</th>\n",
       "      <th>restecg</th>\n",
       "      <th>thalach</th>\n",
       "      <th>exang</th>\n",
       "      <th>oldpeak</th>\n",
       "      <th>slope</th>\n",
       "      <th>ca</th>\n",
       "      <th>thal</th>\n",
       "      <th>target</th>\n",
       "    </tr>\n",
       "  </thead>\n",
       "  <tbody>\n",
       "    <tr>\n",
       "      <th>0</th>\n",
       "      <td>54</td>\n",
       "      <td>0</td>\n",
       "      <td>2</td>\n",
       "      <td>160</td>\n",
       "      <td>201</td>\n",
       "      <td>0.0</td>\n",
       "      <td>1</td>\n",
       "      <td>163.0</td>\n",
       "      <td>0</td>\n",
       "      <td>0.0</td>\n",
       "      <td>2</td>\n",
       "      <td>1</td>\n",
       "      <td>2</td>\n",
       "      <td>1</td>\n",
       "    </tr>\n",
       "    <tr>\n",
       "      <th>1</th>\n",
       "      <td>63</td>\n",
       "      <td>1</td>\n",
       "      <td>0</td>\n",
       "      <td>130</td>\n",
       "      <td>254</td>\n",
       "      <td>0.0</td>\n",
       "      <td>0</td>\n",
       "      <td>147.0</td>\n",
       "      <td>0</td>\n",
       "      <td>1.4</td>\n",
       "      <td>1</td>\n",
       "      <td>1</td>\n",
       "      <td>3</td>\n",
       "      <td>0</td>\n",
       "    </tr>\n",
       "    <tr>\n",
       "      <th>2</th>\n",
       "      <td>62</td>\n",
       "      <td>0</td>\n",
       "      <td>0</td>\n",
       "      <td>150</td>\n",
       "      <td>244</td>\n",
       "      <td>0.0</td>\n",
       "      <td>1</td>\n",
       "      <td>154.0</td>\n",
       "      <td>1</td>\n",
       "      <td>1.4</td>\n",
       "      <td>1</td>\n",
       "      <td>0</td>\n",
       "      <td>2</td>\n",
       "      <td>0</td>\n",
       "    </tr>\n",
       "    <tr>\n",
       "      <th>3</th>\n",
       "      <td>70</td>\n",
       "      <td>1</td>\n",
       "      <td>2</td>\n",
       "      <td>160</td>\n",
       "      <td>269</td>\n",
       "      <td>0.0</td>\n",
       "      <td>1</td>\n",
       "      <td>112.0</td>\n",
       "      <td>1</td>\n",
       "      <td>2.9</td>\n",
       "      <td>1</td>\n",
       "      <td>1</td>\n",
       "      <td>3</td>\n",
       "      <td>0</td>\n",
       "    </tr>\n",
       "    <tr>\n",
       "      <th>4</th>\n",
       "      <td>60</td>\n",
       "      <td>1</td>\n",
       "      <td>0</td>\n",
       "      <td>125</td>\n",
       "      <td>258</td>\n",
       "      <td>0.0</td>\n",
       "      <td>0</td>\n",
       "      <td>141.0</td>\n",
       "      <td>1</td>\n",
       "      <td>2.8</td>\n",
       "      <td>1</td>\n",
       "      <td>1</td>\n",
       "      <td>3</td>\n",
       "      <td>0</td>\n",
       "    </tr>\n",
       "  </tbody>\n",
       "</table>\n",
       "</div>"
      ],
      "text/plain": [
       "   age  sex  cp  trestbps  chol  fbs  restecg  thalach  exang  oldpeak  slope  \\\n",
       "0   54    0   2       160   201  0.0        1    163.0      0      0.0      2   \n",
       "1   63    1   0       130   254  0.0        0    147.0      0      1.4      1   \n",
       "2   62    0   0       150   244  0.0        1    154.0      1      1.4      1   \n",
       "3   70    1   2       160   269  0.0        1    112.0      1      2.9      1   \n",
       "4   60    1   0       125   258  0.0        0    141.0      1      2.8      1   \n",
       "\n",
       "   ca  thal  target  \n",
       "0   1     2       1  \n",
       "1   1     3       0  \n",
       "2   0     2       0  \n",
       "3   1     3       0  \n",
       "4   1     3       0  "
      ]
     },
     "execution_count": 327,
     "metadata": {},
     "output_type": "execute_result"
    }
   ],
   "source": [
    "train.head()"
   ]
  },
  {
   "cell_type": "code",
   "execution_count": 328,
   "metadata": {},
   "outputs": [],
   "source": [
    "y_train = train['target']\n",
    "train.drop(columns=['target','exang','oldpeak','ca','thal','sex'],inplace=True)\n",
    "x_train=train\n",
    "# x_train = x_train.to_numpy()\n",
    "# x_train['exang2'] = train['exang'].applay(lambda x:x**2)\n",
    "\n",
    "ID = test.patient_ID.to_numpy()\n",
    "test.drop(columns=['patient_ID','exang','oldpeak','ca','thal','sex'],inplace=True)\n",
    "x_test=test\n",
    "# x_test = x_test.to_numpy()\n",
    "# x_test['exang2'] = test['exang'].applay(lambda x:x**2)\n",
    "x_test = np.concatenate([np.ones((x_test.shape[0],1)),x_test],axis=1) "
   ]
  },
  {
   "cell_type": "code",
   "execution_count": 329,
   "metadata": {},
   "outputs": [],
   "source": [
    "y_train = y_train.to_numpy()\n",
    "x_train = x_train.to_numpy()"
   ]
  },
  {
   "cell_type": "code",
   "execution_count": 330,
   "metadata": {},
   "outputs": [],
   "source": [
    "y_train = y_train.reshape((train.shape[0],1))"
   ]
  },
  {
   "cell_type": "code",
   "execution_count": 331,
   "metadata": {},
   "outputs": [
    {
     "data": {
      "text/plain": [
       "(250, 8)"
      ]
     },
     "execution_count": 331,
     "metadata": {},
     "output_type": "execute_result"
    }
   ],
   "source": [
    "x_train.shape"
   ]
  },
  {
   "cell_type": "code",
   "execution_count": 332,
   "metadata": {},
   "outputs": [],
   "source": [
    "x_train = np.concatenate([np.ones((x_train.shape[0],1)),x_train],axis=1) "
   ]
  },
  {
   "cell_type": "code",
   "execution_count": 333,
   "metadata": {},
   "outputs": [
    {
     "data": {
      "text/plain": [
       "(250, 9)"
      ]
     },
     "execution_count": 333,
     "metadata": {},
     "output_type": "execute_result"
    }
   ],
   "source": [
    "x_train.shape"
   ]
  },
  {
   "cell_type": "code",
   "execution_count": 334,
   "metadata": {},
   "outputs": [
    {
     "data": {
      "text/plain": [
       "age         0\n",
       "cp          0\n",
       "trestbps    0\n",
       "chol        0\n",
       "fbs         0\n",
       "restecg     0\n",
       "thalach     0\n",
       "slope       0\n",
       "dtype: int64"
      ]
     },
     "execution_count": 334,
     "metadata": {},
     "output_type": "execute_result"
    }
   ],
   "source": [
    "test.isna().sum()"
   ]
  },
  {
   "cell_type": "code",
   "execution_count": null,
   "metadata": {},
   "outputs": [],
   "source": []
  },
  {
   "cell_type": "code",
   "execution_count": 335,
   "metadata": {},
   "outputs": [],
   "source": [
    "def sg(Input) :\n",
    "    return 1/(1+np.exp(Input))"
   ]
  },
  {
   "cell_type": "code",
   "execution_count": 336,
   "metadata": {},
   "outputs": [],
   "source": [
    "def pre(x,wight):\n",
    "#     700*3  x 3*1\n",
    "    return np.dot(x,wight.T)"
   ]
  },
  {
   "cell_type": "code",
   "execution_count": 337,
   "metadata": {},
   "outputs": [],
   "source": [
    "def GD(iterations,step_size,x,y,l2):\n",
    "    m=y.shape[0]\n",
    "    Hcost = []\n",
    "    wight = np.zeros((1,x.shape[1]))\n",
    "    for i in range(iterations):\n",
    "#                                        1*53  x 53*14\n",
    "        wight = wight - (step_size * (sg(pre(x,wight))-y).T.dot(x) + l2 * wight**2)/m\n",
    "        Hcost.append(cost(x,wight,y))\n",
    "    return wight , Hcost"
   ]
  },
  {
   "cell_type": "code",
   "execution_count": 338,
   "metadata": {},
   "outputs": [],
   "source": [
    "def cost(x,wight,y) :\n",
    "    m=x.shape[0]\n",
    "    return (1/(2*m)) * np.sum((pre(x,wight)-y)**2)"
   ]
  },
  {
   "cell_type": "code",
   "execution_count": 339,
   "metadata": {},
   "outputs": [],
   "source": [
    "theta , Hcost= GD(600000,0.0000000001,x_train,y_train,0.00000000000000000001)"
   ]
  },
  {
   "cell_type": "code",
   "execution_count": 340,
   "metadata": {},
   "outputs": [
    {
     "data": {
      "image/png": "[encoded data removed]",
      "text/plain": [
       "<Figure size 432x288 with 1 Axes>"
      ]
     },
     "metadata": {
      "needs_background": "light"
     },
     "output_type": "display_data"
    }
   ],
   "source": [
    "plt.plot(Hcost);"
   ]
  },
  {
   "cell_type": "code",
   "execution_count": 341,
   "metadata": {},
   "outputs": [
    {
     "data": {
      "text/plain": [
       "array([[5.42102640e-06, 2.32471337e-04, 1.82666011e-05, 6.31185230e-04,\n",
       "        1.16145890e-03, 5.64749815e-07, 5.72254067e-06, 1.06945908e-03,\n",
       "        1.44403982e-05]])"
      ]
     },
     "execution_count": 341,
     "metadata": {},
     "output_type": "execute_result"
    }
   ],
   "source": [
    "theta"
   ]
  },
  {
   "cell_type": "code",
   "execution_count": 342,
   "metadata": {},
   "outputs": [],
   "source": [
    "pred = pre(x_test,theta)\n",
    "pred.shape\n",
    "tar = np.array(len(ID))\n",
    "# p[\"Tar\"] = test[\"Target\"]\n",
    "lis = [1 if i>0.5 else 0 for i in pred]\n",
    "lis = np.array(lis)\n",
    "# for i in range(len(pred)) :\n",
    "#     if pred[i] >0.5 :\n",
    "#         tar[i] = 'Heart Attack'\n",
    "#     else :\n",
    "#         tar[i] = 'No Attack'\n",
    "    "
   ]
  },
  {
   "cell_type": "code",
   "execution_count": null,
   "metadata": {},
   "outputs": [],
   "source": []
  },
  {
   "cell_type": "code",
   "execution_count": 343,
   "metadata": {},
   "outputs": [],
   "source": [
    "lis = np.where(lis==1,'Heart Attack','No Attack')"
   ]
  },
  {
   "cell_type": "code",
   "execution_count": 344,
   "metadata": {},
   "outputs": [
    {
     "data": {
      "text/plain": [
       "53"
      ]
     },
     "execution_count": 344,
     "metadata": {},
     "output_type": "execute_result"
    }
   ],
   "source": [
    "len(lis)"
   ]
  },
  {
   "cell_type": "code",
   "execution_count": 345,
   "metadata": {},
   "outputs": [],
   "source": [
    "sub = np.column_stack((ID,lis))\n",
    "sub = pd.DataFrame(sub)\n",
    "sub.to_csv('submission.csv',index=False,header=['patient_ID','target'])"
   ]
  },
  {
   "cell_type": "code",
   "execution_count": null,
   "metadata": {},
   "outputs": [],
   "source": []
  },
  {
   "cell_type": "code",
   "execution_count": 346,
   "metadata": {},
   "outputs": [
    {
     "data": {
      "text/plain": [
       "0.12653704882018696"
      ]
     },
     "execution_count": 346,
     "metadata": {},
     "output_type": "execute_result"
    }
   ],
   "source": [
    "cost(x_train,theta,y_train)"
   ]
  },
  {
   "cell_type": "code",
   "execution_count": 347,
   "metadata": {},
   "outputs": [
    {
     "data": {
      "text/plain": [
       "0.12645201931599945"
      ]
     },
     "execution_count": 347,
     "metadata": {},
     "output_type": "execute_result"
    }
   ],
   "source": [
    "0.12645201931599945"
   ]
  },
  {
   "cell_type": "code",
   "execution_count": 348,
   "metadata": {},
   "outputs": [
    {
     "data": {
      "text/plain": [
       "0.12651620379607117"
      ]
     },
     "execution_count": 348,
     "metadata": {},
     "output_type": "execute_result"
    }
   ],
   "source": [
    "0.12651620379607117"
   ]
  },
  {
   "cell_type": "code",
   "execution_count": null,
   "metadata": {},
   "outputs": [],
   "source": []
  },
  {
   "cell_type": "code",
   "execution_count": null,
   "metadata": {},
   "outputs": [],
   "source": []
  },
  {
   "cell_type": "code",
   "execution_count": null,
   "metadata": {},
   "outputs": [],
   "source": []
  },
  {
   "cell_type": "code",
   "execution_count": null,
   "metadata": {},
   "outputs": [],
   "source": []
  },
  {
   "cell_type": "code",
   "execution_count": null,
   "metadata": {},
   "outputs": [],
   "source": []
  }
 ],
 "metadata": {
  "kernelspec": {
   "display_name": "Python 3",
   "language": "python",
   "name": "python3"
  },
  "language_info": {
   "codemirror_mode": {
    "name": "ipython",
    "version": 3
   },
   "file_extension": ".py",
   "mimetype": "text/x-python",
   "name": "python",
   "nbconvert_exporter": "python",
   "pygments_lexer": "ipython3",
   "version": "3.7.6"
  }
 },
 "nbformat": 4,
 "nbformat_minor": 4
}
